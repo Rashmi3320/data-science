{
    "nbformat_minor": 1, 
    "cells": [
        {
            "source": "import pandas as pd", 
            "cell_type": "code", 
            "metadata": {}, 
            "outputs": [], 
            "execution_count": 1
        }, 
        {
            "source": "path = \"https://raw.githubusercontent.com/sathannan/DataScienceTraining/master/TopSellingAlbums.csv\"\ndf= pd.read_csv(path)", 
            "cell_type": "code", 
            "metadata": {}, 
            "outputs": [], 
            "execution_count": 4
        }, 
        {
            "source": "df.head()", 
            "cell_type": "code", 
            "metadata": {}, 
            "outputs": [
                {
                    "output_type": "execute_result", 
                    "data": {
                        "text/html": "<div>\n<style scoped>\n    .dataframe tbody tr th:only-of-type {\n        vertical-align: middle;\n    }\n\n    .dataframe tbody tr th {\n        vertical-align: top;\n    }\n\n    .dataframe thead th {\n        text-align: right;\n    }\n</style>\n<table border=\"1\" class=\"dataframe\">\n  <thead>\n    <tr style=\"text-align: right;\">\n      <th></th>\n      <th>Artist</th>\n      <th>Album</th>\n      <th>Released</th>\n      <th>Length</th>\n      <th>Genre</th>\n      <th>Music Recording Sales (millions)</th>\n      <th>Claimed Sales (millions)</th>\n      <th>Released.1</th>\n      <th>Soundtrack</th>\n      <th>Rating</th>\n    </tr>\n  </thead>\n  <tbody>\n    <tr>\n      <th>0</th>\n      <td>Michael Jackson</td>\n      <td>Thriller</td>\n      <td>1982</td>\n      <td>0:42:19</td>\n      <td>pop, rock, R&amp;B</td>\n      <td>46.0</td>\n      <td>65</td>\n      <td>30-Nov-82</td>\n      <td>NaN</td>\n      <td>10.0</td>\n    </tr>\n    <tr>\n      <th>1</th>\n      <td>AC/DC</td>\n      <td>Back in Black</td>\n      <td>1980</td>\n      <td>0:42:11</td>\n      <td>hard rock</td>\n      <td>26.1</td>\n      <td>50</td>\n      <td>25-Jul-80</td>\n      <td>NaN</td>\n      <td>9.5</td>\n    </tr>\n    <tr>\n      <th>2</th>\n      <td>Pink Floyd</td>\n      <td>The Dark Side of the Moon</td>\n      <td>1973</td>\n      <td>0:42:49</td>\n      <td>progressive rock</td>\n      <td>24.2</td>\n      <td>45</td>\n      <td>01-Mar-73</td>\n      <td>NaN</td>\n      <td>9.0</td>\n    </tr>\n    <tr>\n      <th>3</th>\n      <td>Whitney Houston</td>\n      <td>The Bodyguard</td>\n      <td>1992</td>\n      <td>0:57:44</td>\n      <td>R&amp;B, soul, pop</td>\n      <td>27.4</td>\n      <td>44</td>\n      <td>17-Nov-92</td>\n      <td>Y</td>\n      <td>8.5</td>\n    </tr>\n    <tr>\n      <th>4</th>\n      <td>Meat Loaf</td>\n      <td>Bat Out of Hell</td>\n      <td>1977</td>\n      <td>0:46:33</td>\n      <td>hard rock, progressive rock</td>\n      <td>20.6</td>\n      <td>43</td>\n      <td>21-Oct-77</td>\n      <td>NaN</td>\n      <td>8.0</td>\n    </tr>\n  </tbody>\n</table>\n</div>", 
                        "text/plain": "            Artist                      Album  Released   Length  \\\n0  Michael Jackson                   Thriller      1982  0:42:19   \n1            AC/DC              Back in Black      1980  0:42:11   \n2       Pink Floyd  The Dark Side of the Moon      1973  0:42:49   \n3  Whitney Houston              The Bodyguard      1992  0:57:44   \n4        Meat Loaf            Bat Out of Hell      1977  0:46:33   \n\n                         Genre  Music Recording Sales (millions)  \\\n0               pop, rock, R&B                              46.0   \n1                    hard rock                              26.1   \n2             progressive rock                              24.2   \n3               R&B, soul, pop                              27.4   \n4  hard rock, progressive rock                              20.6   \n\n   Claimed Sales (millions) Released.1 Soundtrack  Rating  \n0                        65  30-Nov-82        NaN    10.0  \n1                        50  25-Jul-80        NaN     9.5  \n2                        45  01-Mar-73        NaN     9.0  \n3                        44  17-Nov-92          Y     8.5  \n4                        43  21-Oct-77        NaN     8.0  "
                    }, 
                    "execution_count": 5, 
                    "metadata": {}
                }
            ], 
            "execution_count": 5
        }, 
        {
            "source": "df.tail()", 
            "cell_type": "code", 
            "metadata": {}, 
            "outputs": [
                {
                    "output_type": "execute_result", 
                    "data": {
                        "text/html": "<div>\n<style scoped>\n    .dataframe tbody tr th:only-of-type {\n        vertical-align: middle;\n    }\n\n    .dataframe tbody tr th {\n        vertical-align: top;\n    }\n\n    .dataframe thead th {\n        text-align: right;\n    }\n</style>\n<table border=\"1\" class=\"dataframe\">\n  <thead>\n    <tr style=\"text-align: right;\">\n      <th></th>\n      <th>Artist</th>\n      <th>Album</th>\n      <th>Released</th>\n      <th>Length</th>\n      <th>Genre</th>\n      <th>Music Recording Sales (millions)</th>\n      <th>Claimed Sales (millions)</th>\n      <th>Released.1</th>\n      <th>Soundtrack</th>\n      <th>Rating</th>\n    </tr>\n  </thead>\n  <tbody>\n    <tr>\n      <th>3</th>\n      <td>Whitney Houston</td>\n      <td>The Bodyguard</td>\n      <td>1992</td>\n      <td>0:57:44</td>\n      <td>R&amp;B, soul, pop</td>\n      <td>27.4</td>\n      <td>44</td>\n      <td>17-Nov-92</td>\n      <td>Y</td>\n      <td>8.5</td>\n    </tr>\n    <tr>\n      <th>4</th>\n      <td>Meat Loaf</td>\n      <td>Bat Out of Hell</td>\n      <td>1977</td>\n      <td>0:46:33</td>\n      <td>hard rock, progressive rock</td>\n      <td>20.6</td>\n      <td>43</td>\n      <td>21-Oct-77</td>\n      <td>NaN</td>\n      <td>8.0</td>\n    </tr>\n    <tr>\n      <th>5</th>\n      <td>Eagles</td>\n      <td>Their Greatest Hits (1971-1975)</td>\n      <td>1976</td>\n      <td>0:43:08</td>\n      <td>rock, soft rock, folk rock</td>\n      <td>32.2</td>\n      <td>42</td>\n      <td>17-Feb-76</td>\n      <td>NaN</td>\n      <td>7.5</td>\n    </tr>\n    <tr>\n      <th>6</th>\n      <td>Bee Gees</td>\n      <td>Saturday Night Fever</td>\n      <td>1977</td>\n      <td>1:15:54</td>\n      <td>disco</td>\n      <td>20.6</td>\n      <td>40</td>\n      <td>15-Nov-77</td>\n      <td>Y</td>\n      <td>7.0</td>\n    </tr>\n    <tr>\n      <th>7</th>\n      <td>Fleetwood Mac</td>\n      <td>Rumours</td>\n      <td>1977</td>\n      <td>0:40:01</td>\n      <td>soft rock</td>\n      <td>27.9</td>\n      <td>40</td>\n      <td>04-Feb-77</td>\n      <td>NaN</td>\n      <td>6.5</td>\n    </tr>\n  </tbody>\n</table>\n</div>", 
                        "text/plain": "            Artist                            Album  Released   Length  \\\n3  Whitney Houston                    The Bodyguard      1992  0:57:44   \n4        Meat Loaf                  Bat Out of Hell      1977  0:46:33   \n5           Eagles  Their Greatest Hits (1971-1975)      1976  0:43:08   \n6         Bee Gees             Saturday Night Fever      1977  1:15:54   \n7    Fleetwood Mac                          Rumours      1977  0:40:01   \n\n                         Genre  Music Recording Sales (millions)  \\\n3               R&B, soul, pop                              27.4   \n4  hard rock, progressive rock                              20.6   \n5   rock, soft rock, folk rock                              32.2   \n6                        disco                              20.6   \n7                    soft rock                              27.9   \n\n   Claimed Sales (millions) Released.1 Soundtrack  Rating  \n3                        44  17-Nov-92          Y     8.5  \n4                        43  21-Oct-77        NaN     8.0  \n5                        42  17-Feb-76        NaN     7.5  \n6                        40  15-Nov-77          Y     7.0  \n7                        40  04-Feb-77        NaN     6.5  "
                    }, 
                    "execution_count": 7, 
                    "metadata": {}
                }
            ], 
            "execution_count": 7
        }, 
        {
            "source": "df[['Artist','Album','Released']]", 
            "cell_type": "code", 
            "metadata": {}, 
            "outputs": [
                {
                    "output_type": "execute_result", 
                    "data": {
                        "text/html": "<div>\n<style scoped>\n    .dataframe tbody tr th:only-of-type {\n        vertical-align: middle;\n    }\n\n    .dataframe tbody tr th {\n        vertical-align: top;\n    }\n\n    .dataframe thead th {\n        text-align: right;\n    }\n</style>\n<table border=\"1\" class=\"dataframe\">\n  <thead>\n    <tr style=\"text-align: right;\">\n      <th></th>\n      <th>Artist</th>\n      <th>Album</th>\n      <th>Released</th>\n    </tr>\n  </thead>\n  <tbody>\n    <tr>\n      <th>0</th>\n      <td>Michael Jackson</td>\n      <td>Thriller</td>\n      <td>1982</td>\n    </tr>\n    <tr>\n      <th>1</th>\n      <td>AC/DC</td>\n      <td>Back in Black</td>\n      <td>1980</td>\n    </tr>\n    <tr>\n      <th>2</th>\n      <td>Pink Floyd</td>\n      <td>The Dark Side of the Moon</td>\n      <td>1973</td>\n    </tr>\n    <tr>\n      <th>3</th>\n      <td>Whitney Houston</td>\n      <td>The Bodyguard</td>\n      <td>1992</td>\n    </tr>\n    <tr>\n      <th>4</th>\n      <td>Meat Loaf</td>\n      <td>Bat Out of Hell</td>\n      <td>1977</td>\n    </tr>\n    <tr>\n      <th>5</th>\n      <td>Eagles</td>\n      <td>Their Greatest Hits (1971-1975)</td>\n      <td>1976</td>\n    </tr>\n    <tr>\n      <th>6</th>\n      <td>Bee Gees</td>\n      <td>Saturday Night Fever</td>\n      <td>1977</td>\n    </tr>\n    <tr>\n      <th>7</th>\n      <td>Fleetwood Mac</td>\n      <td>Rumours</td>\n      <td>1977</td>\n    </tr>\n  </tbody>\n</table>\n</div>", 
                        "text/plain": "            Artist                            Album  Released\n0  Michael Jackson                         Thriller      1982\n1            AC/DC                    Back in Black      1980\n2       Pink Floyd        The Dark Side of the Moon      1973\n3  Whitney Houston                    The Bodyguard      1992\n4        Meat Loaf                  Bat Out of Hell      1977\n5           Eagles  Their Greatest Hits (1971-1975)      1976\n6         Bee Gees             Saturday Night Fever      1977\n7    Fleetwood Mac                          Rumours      1977"
                    }, 
                    "execution_count": 11, 
                    "metadata": {}
                }
            ], 
            "execution_count": 11
        }, 
        {
            "source": "df.iloc[0,0] #row, column", 
            "cell_type": "code", 
            "metadata": {}, 
            "outputs": [
                {
                    "output_type": "execute_result", 
                    "data": {
                        "text/plain": "'Michael Jackson'"
                    }, 
                    "execution_count": 13, 
                    "metadata": {}
                }
            ], 
            "execution_count": 13
        }, 
        {
            "source": "df.loc[0,'Artist']", 
            "cell_type": "code", 
            "metadata": {}, 
            "outputs": [
                {
                    "output_type": "execute_result", 
                    "data": {
                        "text/plain": "'Michael Jackson'"
                    }, 
                    "execution_count": 14, 
                    "metadata": {}
                }
            ], 
            "execution_count": 14
        }, 
        {
            "source": "df.iloc[0:2,0:3] ", 
            "cell_type": "code", 
            "metadata": {}, 
            "outputs": [
                {
                    "output_type": "execute_result", 
                    "data": {
                        "text/html": "<div>\n<style scoped>\n    .dataframe tbody tr th:only-of-type {\n        vertical-align: middle;\n    }\n\n    .dataframe tbody tr th {\n        vertical-align: top;\n    }\n\n    .dataframe thead th {\n        text-align: right;\n    }\n</style>\n<table border=\"1\" class=\"dataframe\">\n  <thead>\n    <tr style=\"text-align: right;\">\n      <th></th>\n      <th>Artist</th>\n      <th>Album</th>\n      <th>Released</th>\n    </tr>\n  </thead>\n  <tbody>\n    <tr>\n      <th>0</th>\n      <td>Michael Jackson</td>\n      <td>Thriller</td>\n      <td>1982</td>\n    </tr>\n    <tr>\n      <th>1</th>\n      <td>AC/DC</td>\n      <td>Back in Black</td>\n      <td>1980</td>\n    </tr>\n  </tbody>\n</table>\n</div>", 
                        "text/plain": "            Artist          Album  Released\n0  Michael Jackson       Thriller      1982\n1            AC/DC  Back in Black      1980"
                    }, 
                    "execution_count": 15, 
                    "metadata": {}
                }
            ], 
            "execution_count": 15
        }, 
        {
            "source": "df.iloc[[1,3,5],0:3] ", 
            "cell_type": "code", 
            "metadata": {}, 
            "outputs": [
                {
                    "output_type": "execute_result", 
                    "data": {
                        "text/html": "<div>\n<style scoped>\n    .dataframe tbody tr th:only-of-type {\n        vertical-align: middle;\n    }\n\n    .dataframe tbody tr th {\n        vertical-align: top;\n    }\n\n    .dataframe thead th {\n        text-align: right;\n    }\n</style>\n<table border=\"1\" class=\"dataframe\">\n  <thead>\n    <tr style=\"text-align: right;\">\n      <th></th>\n      <th>Artist</th>\n      <th>Album</th>\n      <th>Released</th>\n    </tr>\n  </thead>\n  <tbody>\n    <tr>\n      <th>1</th>\n      <td>AC/DC</td>\n      <td>Back in Black</td>\n      <td>1980</td>\n    </tr>\n    <tr>\n      <th>3</th>\n      <td>Whitney Houston</td>\n      <td>The Bodyguard</td>\n      <td>1992</td>\n    </tr>\n    <tr>\n      <th>5</th>\n      <td>Eagles</td>\n      <td>Their Greatest Hits (1971-1975)</td>\n      <td>1976</td>\n    </tr>\n  </tbody>\n</table>\n</div>", 
                        "text/plain": "            Artist                            Album  Released\n1            AC/DC                    Back in Black      1980\n3  Whitney Houston                    The Bodyguard      1992\n5           Eagles  Their Greatest Hits (1971-1975)      1976"
                    }, 
                    "execution_count": 16, 
                    "metadata": {}
                }
            ], 
            "execution_count": 16
        }, 
        {
            "source": "# NUMPY", 
            "cell_type": "markdown", 
            "metadata": {}
        }, 
        {
            "source": "import numpy as np", 
            "cell_type": "code", 
            "metadata": {}, 
            "outputs": [], 
            "execution_count": 17
        }, 
        {
            "source": "!pip install --upgrade pandas", 
            "cell_type": "code", 
            "metadata": {}, 
            "outputs": [
                {
                    "output_type": "stream", 
                    "name": "stdout", 
                    "text": "Collecting pandas\n  Downloading https://files.pythonhosted.org/packages/74/24/0cdbf8907e1e3bc5a8da03345c23cbed7044330bb8f73bb12e711a640a00/pandas-0.24.2-cp35-cp35m-manylinux1_x86_64.whl (10.0MB)\n\u001b[K    100% |\u2588\u2588\u2588\u2588\u2588\u2588\u2588\u2588\u2588\u2588\u2588\u2588\u2588\u2588\u2588\u2588\u2588\u2588\u2588\u2588\u2588\u2588\u2588\u2588\u2588\u2588\u2588\u2588\u2588\u2588\u2588\u2588| 10.0MB 100kB/s eta 0:00:01\n\u001b[?25hRequirement not upgraded as not directly required: pytz>=2011k in /opt/conda/envs/DSX-Python35/lib/python3.5/site-packages (from pandas)\nRequirement not upgraded as not directly required: numpy>=1.12.0 in /opt/conda/envs/DSX-Python35/lib/python3.5/site-packages (from pandas)\nRequirement not upgraded as not directly required: python-dateutil>=2.5.0 in /opt/conda/envs/DSX-Python35/lib/python3.5/site-packages (from pandas)\nRequirement not upgraded as not directly required: six>=1.5 in /opt/conda/envs/DSX-Python35/lib/python3.5/site-packages (from python-dateutil>=2.5.0->pandas)\nInstalling collected packages: pandas\n  Found existing installation: pandas 0.21.0\n    Uninstalling pandas-0.21.0:\n      Successfully uninstalled pandas-0.21.0\nSuccessfully installed pandas-0.24.2\n"
                }
            ], 
            "execution_count": 22
        }, 
        {
            "source": "pd.show_versions()", 
            "cell_type": "code", 
            "metadata": {}, 
            "outputs": [
                {
                    "output_type": "stream", 
                    "name": "stdout", 
                    "text": "\nINSTALLED VERSIONS\n------------------\ncommit: None\npython: 3.5.5.final.0\npython-bits: 64\nOS: Linux\nOS-release: 4.4.0-145-generic\nmachine: x86_64\nprocessor: x86_64\nbyteorder: little\nLC_ALL: en_US.UTF-8\nLANG: en_US.UTF-8\nLOCALE: en_US.UTF-8\n\npandas: 0.21.0\npytest: 3.2.1\npip: 9.0.1\nsetuptools: 36.5.0.post20170921\nCython: 0.26.1\nnumpy: 1.13.3\nscipy: 1.0.0\npyarrow: None\nxarray: None\nIPython: 6.1.0\nsphinx: 1.6.3\npatsy: 0.4.1\ndateutil: 2.6.1\npytz: 2018.3\nblosc: None\nbottleneck: 1.2.1\ntables: 3.4.2\nnumexpr: 2.6.2\nfeather: None\nmatplotlib: 2.1.0\nopenpyxl: 2.4.8\nxlrd: 1.1.0\nxlwt: 1.3.0\nxlsxwriter: 1.0.2\nlxml: 4.1.0\nbs4: 4.6.0\nhtml5lib: 0.999999999\nsqlalchemy: 1.1.13\npymysql: None\npsycopg2: 2.7.4 (dt dec pq3 ext lo64)\njinja2: 2.9.6\ns3fs: None\nfastparquet: None\npandas_gbq: None\npandas_datareader: None\n"
                }
            ], 
            "execution_count": 25
        }, 
        {
            "source": "data = [0,1,2,3,4,5,]\na=np.array(data)\na", 
            "cell_type": "code", 
            "metadata": {}, 
            "outputs": [
                {
                    "output_type": "execute_result", 
                    "data": {
                        "text/plain": "array([0, 1, 2, 3, 4, 5])"
                    }, 
                    "execution_count": 18, 
                    "metadata": {}
                }
            ], 
            "execution_count": 18
        }, 
        {
            "source": "x= df['Released'].as_matrix()\nprint(x)\nx", 
            "cell_type": "code", 
            "metadata": {}, 
            "outputs": [
                {
                    "output_type": "stream", 
                    "name": "stdout", 
                    "text": "[1982 1980 1973 1992 1977 1976 1977 1977]\n"
                }, 
                {
                    "output_type": "execute_result", 
                    "data": {
                        "text/plain": "array([1982, 1980, 1973, 1992, 1977, 1976, 1977, 1977])"
                    }, 
                    "execution_count": 21, 
                    "metadata": {}
                }
            ], 
            "execution_count": 21
        }, 
        {
            "source": "x= df['Released'].to_numpy() # pandas 0.24.0 > use function ---> to_numpy()\nprint(x)", 
            "cell_type": "code", 
            "metadata": {}, 
            "outputs": [
                {
                    "output_type": "error", 
                    "evalue": "'Series' object has no attribute 'to_numpy'", 
                    "traceback": [
                        "\u001b[0;31m---------------------------------------------------------------------------\u001b[0m", 
                        "\u001b[0;31mAttributeError\u001b[0m                            Traceback (most recent call last)", 
                        "\u001b[0;32m<ipython-input-26-2f7235918894>\u001b[0m in \u001b[0;36m<module>\u001b[0;34m()\u001b[0m\n\u001b[0;32m----> 1\u001b[0;31m \u001b[0mx\u001b[0m\u001b[0;34m=\u001b[0m \u001b[0mdf\u001b[0m\u001b[0;34m[\u001b[0m\u001b[0;34m'Released'\u001b[0m\u001b[0;34m]\u001b[0m\u001b[0;34m.\u001b[0m\u001b[0mto_numpy\u001b[0m\u001b[0;34m(\u001b[0m\u001b[0;34m)\u001b[0m\u001b[0;34m\u001b[0m\u001b[0m\n\u001b[0m\u001b[1;32m      2\u001b[0m \u001b[0mprint\u001b[0m\u001b[0;34m(\u001b[0m\u001b[0mx\u001b[0m\u001b[0;34m)\u001b[0m\u001b[0;34m\u001b[0m\u001b[0m\n", 
                        "\u001b[0;32m/opt/conda/envs/DSX-Python35/lib/python3.5/site-packages/pandas/core/generic.py\u001b[0m in \u001b[0;36m__getattr__\u001b[0;34m(self, name)\u001b[0m\n\u001b[1;32m   3612\u001b[0m         \u001b[0;32melse\u001b[0m\u001b[0;34m:\u001b[0m\u001b[0;34m\u001b[0m\u001b[0m\n\u001b[1;32m   3613\u001b[0m             \u001b[0mresult\u001b[0m \u001b[0;34m=\u001b[0m \u001b[0mself\u001b[0m\u001b[0;34m.\u001b[0m\u001b[0miloc\u001b[0m\u001b[0;34m[\u001b[0m\u001b[0mloc\u001b[0m\u001b[0;34m]\u001b[0m\u001b[0;34m\u001b[0m\u001b[0m\n\u001b[0;32m-> 3614\u001b[0;31m             \u001b[0mresult\u001b[0m\u001b[0;34m.\u001b[0m\u001b[0mindex\u001b[0m \u001b[0;34m=\u001b[0m \u001b[0mnew_index\u001b[0m\u001b[0;34m\u001b[0m\u001b[0m\n\u001b[0m\u001b[1;32m   3615\u001b[0m \u001b[0;34m\u001b[0m\u001b[0m\n\u001b[1;32m   3616\u001b[0m         \u001b[0;31m# this could be a view\u001b[0m\u001b[0;34m\u001b[0m\u001b[0;34m\u001b[0m\u001b[0m\n", 
                        "\u001b[0;31mAttributeError\u001b[0m: 'Series' object has no attribute 'to_numpy'"
                    ], 
                    "ename": "AttributeError"
                }
            ], 
            "execution_count": 26
        }, 
        {
            "source": "a[2]", 
            "cell_type": "code", 
            "metadata": {}, 
            "outputs": [
                {
                    "output_type": "execute_result", 
                    "data": {
                        "text/plain": "2"
                    }, 
                    "execution_count": 29, 
                    "metadata": {}
                }
            ], 
            "execution_count": 29
        }, 
        {
            "source": "a[0:3]", 
            "cell_type": "code", 
            "metadata": {}, 
            "outputs": [
                {
                    "output_type": "execute_result", 
                    "data": {
                        "text/plain": "array([0, 1, 2])"
                    }, 
                    "execution_count": 30, 
                    "metadata": {}
                }
            ], 
            "execution_count": 30
        }, 
        {
            "source": "a[-1]", 
            "cell_type": "code", 
            "metadata": {}, 
            "outputs": [
                {
                    "output_type": "execute_result", 
                    "data": {
                        "text/plain": "5"
                    }, 
                    "execution_count": 31, 
                    "metadata": {}
                }
            ], 
            "execution_count": 31
        }, 
        {
            "source": "a.size", 
            "cell_type": "code", 
            "metadata": {}, 
            "outputs": [
                {
                    "output_type": "execute_result", 
                    "data": {
                        "text/plain": "6"
                    }, 
                    "execution_count": 33, 
                    "metadata": {}
                }
            ], 
            "execution_count": 33
        }, 
        {
            "source": "a.shape", 
            "cell_type": "code", 
            "metadata": {}, 
            "outputs": [
                {
                    "output_type": "execute_result", 
                    "data": {
                        "text/plain": "(6,)"
                    }, 
                    "execution_count": 34, 
                    "metadata": {}
                }
            ], 
            "execution_count": 34
        }, 
        {
            "source": "a.mean()", 
            "cell_type": "code", 
            "metadata": {}, 
            "outputs": [
                {
                    "output_type": "execute_result", 
                    "data": {
                        "text/plain": "2.5"
                    }, 
                    "execution_count": 36, 
                    "metadata": {}
                }
            ], 
            "execution_count": 36
        }, 
        {
            "source": "a.max()", 
            "cell_type": "code", 
            "metadata": {}, 
            "outputs": [
                {
                    "output_type": "execute_result", 
                    "data": {
                        "text/plain": "5"
                    }, 
                    "execution_count": 37, 
                    "metadata": {}
                }
            ], 
            "execution_count": 37
        }, 
        {
            "source": "a", 
            "cell_type": "code", 
            "metadata": {}, 
            "outputs": [
                {
                    "output_type": "execute_result", 
                    "data": {
                        "text/plain": "array([0, 1, 2, 3, 4, 5])"
                    }, 
                    "execution_count": 38, 
                    "metadata": {}
                }
            ], 
            "execution_count": 38
        }, 
        {
            "source": "a.min()", 
            "cell_type": "code", 
            "metadata": {}, 
            "outputs": [
                {
                    "output_type": "execute_result", 
                    "data": {
                        "text/plain": "0"
                    }, 
                    "execution_count": 39, 
                    "metadata": {}
                }
            ], 
            "execution_count": 39
        }, 
        {
            "source": "x=np.array([1,0])\ny=np.array([0,1])\nz=x+y\nprint(z)\n", 
            "cell_type": "code", 
            "metadata": {}, 
            "outputs": [
                {
                    "output_type": "stream", 
                    "name": "stdout", 
                    "text": "[1 1]\n"
                }
            ], 
            "execution_count": 41
        }, 
        {
            "source": "x=np.array([1,3])\ny=1\nz=x+y\nprint(z)", 
            "cell_type": "code", 
            "metadata": {}, 
            "outputs": [
                {
                    "output_type": "stream", 
                    "name": "stdout", 
                    "text": "[2 4]\n"
                }
            ], 
            "execution_count": 42
        }, 
        {
            "source": "x=np.array([1,3])\ny=2\nz=x*y\nprint(z)", 
            "cell_type": "code", 
            "metadata": {}, 
            "outputs": [
                {
                    "output_type": "stream", 
                    "name": "stdout", 
                    "text": "[2 6]\n"
                }
            ], 
            "execution_count": 43
        }, 
        {
            "source": "x=np.array([1,3])\ny=2\nz=x//y\nprint(z)", 
            "cell_type": "code", 
            "metadata": {}, 
            "outputs": [
                {
                    "output_type": "stream", 
                    "name": "stdout", 
                    "text": "[0 1]\n"
                }
            ], 
            "execution_count": 44
        }, 
        {
            "source": "x=np.array([1,3])\ny=2\nz=x/y\nprint(z)", 
            "cell_type": "code", 
            "metadata": {}, 
            "outputs": [
                {
                    "output_type": "stream", 
                    "name": "stdout", 
                    "text": "[ 0.5  1.5]\n"
                }
            ], 
            "execution_count": 45
        }, 
        {
            "source": "x=np.array([1,3])\ny=np.array([4,2])\nz=np.dot(x,y) #1*4 + 3*2\nprint(z)", 
            "cell_type": "code", 
            "metadata": {}, 
            "outputs": [
                {
                    "output_type": "stream", 
                    "name": "stdout", 
                    "text": "10\n"
                }
            ], 
            "execution_count": 46
        }, 
        {
            "source": "np.pi", 
            "cell_type": "code", 
            "metadata": {}, 
            "outputs": [
                {
                    "output_type": "execute_result", 
                    "data": {
                        "text/plain": "3.141592653589793"
                    }, 
                    "execution_count": 47, 
                    "metadata": {}
                }
            ], 
            "execution_count": 47
        }, 
        {
            "source": "np.linspace(0,1,4) #np.linspace(0,1,num=4)", 
            "cell_type": "code", 
            "metadata": {}, 
            "outputs": [
                {
                    "output_type": "execute_result", 
                    "data": {
                        "text/plain": "array([ 0.        ,  0.33333333,  0.66666667,  1.        ])"
                    }, 
                    "execution_count": 48, 
                    "metadata": {}
                }
            ], 
            "execution_count": 48
        }, 
        {
            "source": "np.linspace(0,1,num=10)", 
            "cell_type": "code", 
            "metadata": {}, 
            "outputs": [
                {
                    "output_type": "execute_result", 
                    "data": {
                        "text/plain": "array([ 0.        ,  0.11111111,  0.22222222,  0.33333333,  0.44444444,\n        0.55555556,  0.66666667,  0.77777778,  0.88888889,  1.        ])"
                    }, 
                    "execution_count": 49, 
                    "metadata": {}
                }
            ], 
            "execution_count": 49
        }, 
        {
            "source": "np.linspace(0,1,num=3)", 
            "cell_type": "code", 
            "metadata": {}, 
            "outputs": [
                {
                    "output_type": "execute_result", 
                    "data": {
                        "text/plain": "array([ 0. ,  0.5,  1. ])"
                    }, 
                    "execution_count": 51, 
                    "metadata": {}
                }
            ], 
            "execution_count": 51
        }, 
        {
            "source": "m=np.linspace(0,2*np.pi,100)\nm", 
            "cell_type": "code", 
            "metadata": {}, 
            "outputs": [
                {
                    "output_type": "execute_result", 
                    "data": {
                        "text/plain": "array([ 0.        ,  0.06346652,  0.12693304,  0.19039955,  0.25386607,\n        0.31733259,  0.38079911,  0.44426563,  0.50773215,  0.57119866,\n        0.63466518,  0.6981317 ,  0.76159822,  0.82506474,  0.88853126,\n        0.95199777,  1.01546429,  1.07893081,  1.14239733,  1.20586385,\n        1.26933037,  1.33279688,  1.3962634 ,  1.45972992,  1.52319644,\n        1.58666296,  1.65012947,  1.71359599,  1.77706251,  1.84052903,\n        1.90399555,  1.96746207,  2.03092858,  2.0943951 ,  2.15786162,\n        2.22132814,  2.28479466,  2.34826118,  2.41172769,  2.47519421,\n        2.53866073,  2.60212725,  2.66559377,  2.72906028,  2.7925268 ,\n        2.85599332,  2.91945984,  2.98292636,  3.04639288,  3.10985939,\n        3.17332591,  3.23679243,  3.30025895,  3.36372547,  3.42719199,\n        3.4906585 ,  3.55412502,  3.61759154,  3.68105806,  3.74452458,\n        3.8079911 ,  3.87145761,  3.93492413,  3.99839065,  4.06185717,\n        4.12532369,  4.1887902 ,  4.25225672,  4.31572324,  4.37918976,\n        4.44265628,  4.5061228 ,  4.56958931,  4.63305583,  4.69652235,\n        4.75998887,  4.82345539,  4.88692191,  4.95038842,  5.01385494,\n        5.07732146,  5.14078798,  5.2042545 ,  5.26772102,  5.33118753,\n        5.39465405,  5.45812057,  5.52158709,  5.58505361,  5.64852012,\n        5.71198664,  5.77545316,  5.83891968,  5.9023862 ,  5.96585272,\n        6.02931923,  6.09278575,  6.15625227,  6.21971879,  6.28318531])"
                    }, 
                    "execution_count": 55, 
                    "metadata": {}
                }
            ], 
            "execution_count": 55
        }, 
        {
            "source": "y=np.sin(m)\ny", 
            "cell_type": "code", 
            "metadata": {}, 
            "outputs": [
                {
                    "output_type": "execute_result", 
                    "data": {
                        "text/plain": "array([  0.00000000e+00,   6.34239197e-02,   1.26592454e-01,\n         1.89251244e-01,   2.51147987e-01,   3.12033446e-01,\n         3.71662456e-01,   4.29794912e-01,   4.86196736e-01,\n         5.40640817e-01,   5.92907929e-01,   6.42787610e-01,\n         6.90079011e-01,   7.34591709e-01,   7.76146464e-01,\n         8.14575952e-01,   8.49725430e-01,   8.81453363e-01,\n         9.09631995e-01,   9.34147860e-01,   9.54902241e-01,\n         9.71811568e-01,   9.84807753e-01,   9.93838464e-01,\n         9.98867339e-01,   9.99874128e-01,   9.96854776e-01,\n         9.89821442e-01,   9.78802446e-01,   9.63842159e-01,\n         9.45000819e-01,   9.22354294e-01,   8.95993774e-01,\n         8.66025404e-01,   8.32569855e-01,   7.95761841e-01,\n         7.55749574e-01,   7.12694171e-01,   6.66769001e-01,\n         6.18158986e-01,   5.67059864e-01,   5.13677392e-01,\n         4.58226522e-01,   4.00930535e-01,   3.42020143e-01,\n         2.81732557e-01,   2.20310533e-01,   1.58001396e-01,\n         9.50560433e-02,   3.17279335e-02,  -3.17279335e-02,\n        -9.50560433e-02,  -1.58001396e-01,  -2.20310533e-01,\n        -2.81732557e-01,  -3.42020143e-01,  -4.00930535e-01,\n        -4.58226522e-01,  -5.13677392e-01,  -5.67059864e-01,\n        -6.18158986e-01,  -6.66769001e-01,  -7.12694171e-01,\n        -7.55749574e-01,  -7.95761841e-01,  -8.32569855e-01,\n        -8.66025404e-01,  -8.95993774e-01,  -9.22354294e-01,\n        -9.45000819e-01,  -9.63842159e-01,  -9.78802446e-01,\n        -9.89821442e-01,  -9.96854776e-01,  -9.99874128e-01,\n        -9.98867339e-01,  -9.93838464e-01,  -9.84807753e-01,\n        -9.71811568e-01,  -9.54902241e-01,  -9.34147860e-01,\n        -9.09631995e-01,  -8.81453363e-01,  -8.49725430e-01,\n        -8.14575952e-01,  -7.76146464e-01,  -7.34591709e-01,\n        -6.90079011e-01,  -6.42787610e-01,  -5.92907929e-01,\n        -5.40640817e-01,  -4.86196736e-01,  -4.29794912e-01,\n        -3.71662456e-01,  -3.12033446e-01,  -2.51147987e-01,\n        -1.89251244e-01,  -1.26592454e-01,  -6.34239197e-02,\n        -2.44929360e-16])"
                    }, 
                    "execution_count": 56, 
                    "metadata": {}
                }
            ], 
            "execution_count": 56
        }, 
        {
            "source": "# MATPLOTLIB\n", 
            "cell_type": "markdown", 
            "metadata": {}
        }, 
        {
            "source": "import matplotlib.pyplot as plt\nplt.plot(m,y)", 
            "cell_type": "code", 
            "metadata": {}, 
            "outputs": [
                {
                    "output_type": "execute_result", 
                    "data": {
                        "text/plain": "[<matplotlib.lines.Line2D at 0x7f0683b1f898>]"
                    }, 
                    "execution_count": 59, 
                    "metadata": {}
                }, 
                {
                    "output_type": "display_data", 
                    "data": {
                        "image/png": "[encoded data removed]", 
                        "text/plain": "<matplotlib.figure.Figure at 0x7f0683b3e160>"
                    }, 
                    "metadata": {}
                }
            ], 
            "execution_count": 59
        }, 
        {
            "source": "", 
            "cell_type": "code", 
            "metadata": {}, 
            "outputs": [], 
            "execution_count": null
        }
    ], 
    "metadata": {
        "kernelspec": {
            "display_name": "Python 3.5", 
            "name": "python3", 
            "language": "python"
        }, 
        "language_info": {
            "mimetype": "text/x-python", 
            "nbconvert_exporter": "python", 
            "version": "3.5.5", 
            "name": "python", 
            "file_extension": ".py", 
            "pygments_lexer": "ipython3", 
            "codemirror_mode": {
                "version": 3, 
                "name": "ipython"
            }
        }
    }, 
    "nbformat": 4
}