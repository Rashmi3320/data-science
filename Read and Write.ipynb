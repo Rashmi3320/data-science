{
    "nbformat_minor": 1, 
    "cells": [
        {
            "source": "with open(\"example.txt\",\"w\") as file:\n    file.write(\"hello world\")      # create a text file in write mode", 
            "cell_type": "code", 
            "metadata": {}, 
            "outputs": [], 
            "execution_count": 8
        }, 
        {
            "source": "!ls", 
            "cell_type": "code", 
            "metadata": {}, 
            "outputs": [
                {
                    "output_type": "stream", 
                    "name": "stdout", 
                    "text": "example.txt\r\n"
                }
            ], 
            "execution_count": 9
        }, 
        {
            "source": "with open(\"example.txt\",\"r\") as file:\n    print(file.read()) # read mode", 
            "cell_type": "code", 
            "metadata": {}, 
            "outputs": [
                {
                    "output_type": "stream", 
                    "name": "stdout", 
                    "text": "hello world\n"
                }
            ], 
            "execution_count": 10
        }, 
        {
            "source": "with open(\"example.txt\",\"a\") as file:\n    file.write(\"\\nhello Rashmi\") # a stands for append a new data", 
            "cell_type": "code", 
            "metadata": {}, 
            "outputs": [], 
            "execution_count": 11
        }, 
        {
            "source": "with open(\"example.txt\",\"r\") as file:\n    print(file.read()) # read mode", 
            "cell_type": "code", 
            "metadata": {}, 
            "outputs": [
                {
                    "output_type": "stream", 
                    "name": "stdout", 
                    "text": "hello world\nhello Rashmi\n"
                }
            ], 
            "execution_count": 12
        }, 
        {
            "source": "with open(\"example.txt\",\"r\") as file:\n    print(file.readline())  #read the 1st line\n    print(file.readline())  #read the second line\n    ", 
            "cell_type": "code", 
            "metadata": {}, 
            "outputs": [
                {
                    "output_type": "stream", 
                    "name": "stdout", 
                    "text": "hello world\n\nhello Rashmi\n"
                }
            ], 
            "execution_count": 15
        }, 
        {
            "source": "with open(\"example.txt\",\"r\") as file:\n    print(file.read(5))  #store the 1st 5 letters in a buffer memory and remove that\n    print(file.read(5))  #next 5 letters", 
            "cell_type": "code", 
            "metadata": {}, 
            "outputs": [
                {
                    "output_type": "stream", 
                    "name": "stdout", 
                    "text": "hello\n worl\n"
                }
            ], 
            "execution_count": 16
        }, 
        {
            "source": "with open(\"example.txt\",\"r\") as file:\n    print(file.read())", 
            "cell_type": "code", 
            "metadata": {}, 
            "outputs": [
                {
                    "output_type": "stream", 
                    "name": "stdout", 
                    "text": "hello world\nhello Rashmi\n"
                }
            ], 
            "execution_count": 17
        }, 
        {
            "source": "seq= [\"This is line 1\", \"\\nThis is line 2\"]\nwith open(\"example1.txt\", \"w\") as file:\n    for line in seq:\n        file.write(line)", 
            "cell_type": "code", 
            "metadata": {}, 
            "outputs": [], 
            "execution_count": 20
        }, 
        {
            "source": "with open(\"example1.txt\",\"r\") as file:\n    print(file.read())", 
            "cell_type": "code", 
            "metadata": {}, 
            "outputs": [
                {
                    "output_type": "stream", 
                    "name": "stdout", 
                    "text": "This is line 1\nThis is line 2\n"
                }
            ], 
            "execution_count": 21
        }, 
        {
            "source": "seq= [\"This is line 1\", \"\\nThis is line 2\"]\nwith open(\"example2.txt\", \"w\") as file:\n    file.writelines(seq) #writelines contain internal for loop\n", 
            "cell_type": "code", 
            "metadata": {}, 
            "outputs": [], 
            "execution_count": 23
        }, 
        {
            "source": "with open(\"example2.txt\",\"r\") as file:\n    print(file.readlines())", 
            "cell_type": "code", 
            "metadata": {}, 
            "outputs": [
                {
                    "output_type": "stream", 
                    "name": "stdout", 
                    "text": "['This is line 1\\n', 'This is line 2']\n"
                }
            ], 
            "execution_count": 25
        }, 
        {
            "source": "seq= [\"rashmi,\", \"ranjan\"]\nwith open(\"example2.csv\", \"a\") as file:\n    file.writelines(seq)", 
            "cell_type": "code", 
            "metadata": {}, 
            "outputs": [], 
            "execution_count": 26
        }, 
        {
            "source": "with open(\"example2.csv\",\"r\") as file:\n    print(file.read())", 
            "cell_type": "code", 
            "metadata": {}, 
            "outputs": [
                {
                    "output_type": "stream", 
                    "name": "stdout", 
                    "text": "rashmi,ranjan\n"
                }
            ], 
            "execution_count": 27
        }, 
        {
            "source": "import pandas as pd", 
            "cell_type": "code", 
            "metadata": {}, 
            "outputs": [], 
            "execution_count": 28
        }, 
        {
            "source": "df= pd.read_csv(\"example2.csv\")\ndf", 
            "cell_type": "code", 
            "metadata": {}, 
            "outputs": [
                {
                    "output_type": "execute_result", 
                    "data": {
                        "text/plain": "Empty DataFrame\nColumns: [rashmi, ranjan]\nIndex: []", 
                        "text/html": "<div>\n<style scoped>\n    .dataframe tbody tr th:only-of-type {\n        vertical-align: middle;\n    }\n\n    .dataframe tbody tr th {\n        vertical-align: top;\n    }\n\n    .dataframe thead th {\n        text-align: right;\n    }\n</style>\n<table border=\"1\" class=\"dataframe\">\n  <thead>\n    <tr style=\"text-align: right;\">\n      <th></th>\n      <th>rashmi</th>\n      <th>ranjan</th>\n    </tr>\n  </thead>\n  <tbody>\n  </tbody>\n</table>\n</div>"
                    }, 
                    "execution_count": 29, 
                    "metadata": {}
                }
            ], 
            "execution_count": 29
        }, 
        {
            "source": "df1= pd.read_csv(\"example2.csv\", header = None)\ndf1", 
            "cell_type": "code", 
            "metadata": {}, 
            "outputs": [
                {
                    "output_type": "execute_result", 
                    "data": {
                        "text/plain": "        0       1\n0  rashmi  ranjan", 
                        "text/html": "<div>\n<style scoped>\n    .dataframe tbody tr th:only-of-type {\n        vertical-align: middle;\n    }\n\n    .dataframe tbody tr th {\n        vertical-align: top;\n    }\n\n    .dataframe thead th {\n        text-align: right;\n    }\n</style>\n<table border=\"1\" class=\"dataframe\">\n  <thead>\n    <tr style=\"text-align: right;\">\n      <th></th>\n      <th>0</th>\n      <th>1</th>\n    </tr>\n  </thead>\n  <tbody>\n    <tr>\n      <th>0</th>\n      <td>rashmi</td>\n      <td>ranjan</td>\n    </tr>\n  </tbody>\n</table>\n</div>"
                    }, 
                    "execution_count": 32, 
                    "metadata": {}
                }
            ], 
            "execution_count": 32
        }, 
        {
            "source": "df1= pd.read_csv(\"example2.csv\", header = None, names=['A','B'])\ndf1", 
            "cell_type": "code", 
            "metadata": {}, 
            "outputs": [
                {
                    "output_type": "execute_result", 
                    "data": {
                        "text/plain": "        A       B\n0  rashmi  ranjan", 
                        "text/html": "<div>\n<style scoped>\n    .dataframe tbody tr th:only-of-type {\n        vertical-align: middle;\n    }\n\n    .dataframe tbody tr th {\n        vertical-align: top;\n    }\n\n    .dataframe thead th {\n        text-align: right;\n    }\n</style>\n<table border=\"1\" class=\"dataframe\">\n  <thead>\n    <tr style=\"text-align: right;\">\n      <th></th>\n      <th>A</th>\n      <th>B</th>\n    </tr>\n  </thead>\n  <tbody>\n    <tr>\n      <th>0</th>\n      <td>rashmi</td>\n      <td>ranjan</td>\n    </tr>\n  </tbody>\n</table>\n</div>"
                    }, 
                    "execution_count": 33, 
                    "metadata": {}
                }
            ], 
            "execution_count": 33
        }, 
        {
            "source": "with open(\"example3.csv\", \"w\") as file:\n    file.writelines(seq)", 
            "cell_type": "code", 
            "metadata": {}, 
            "outputs": [], 
            "execution_count": 40
        }, 
        {
            "source": "seq= [\"rashmi,\", \"ranjan\", \"\\n\", \"rojalin,\", \"mishra\"]\nwith open(\"example3.csv\", \"w\") as file:\n    file.writelines(seq)", 
            "cell_type": "code", 
            "metadata": {}, 
            "outputs": [], 
            "execution_count": 43
        }, 
        {
            "source": "with open(\"example3.csv\",\"r\") as file:\n    print(file.read())", 
            "cell_type": "code", 
            "metadata": {}, 
            "outputs": [
                {
                    "output_type": "stream", 
                    "name": "stdout", 
                    "text": "rashmi,ranjan\nrojalin,mishra\n"
                }
            ], 
            "execution_count": 44
        }, 
        {
            "source": "df1= pd.read_csv(\"example3.csv\", header = None, names=['A','B'])\ndf1", 
            "cell_type": "code", 
            "metadata": {}, 
            "outputs": [
                {
                    "output_type": "execute_result", 
                    "data": {
                        "text/plain": "         A       B\n0   rashmi  ranjan\n1  rojalin  mishra", 
                        "text/html": "<div>\n<style scoped>\n    .dataframe tbody tr th:only-of-type {\n        vertical-align: middle;\n    }\n\n    .dataframe tbody tr th {\n        vertical-align: top;\n    }\n\n    .dataframe thead th {\n        text-align: right;\n    }\n</style>\n<table border=\"1\" class=\"dataframe\">\n  <thead>\n    <tr style=\"text-align: right;\">\n      <th></th>\n      <th>A</th>\n      <th>B</th>\n    </tr>\n  </thead>\n  <tbody>\n    <tr>\n      <th>0</th>\n      <td>rashmi</td>\n      <td>ranjan</td>\n    </tr>\n    <tr>\n      <th>1</th>\n      <td>rojalin</td>\n      <td>mishra</td>\n    </tr>\n  </tbody>\n</table>\n</div>"
                    }, 
                    "execution_count": 45, 
                    "metadata": {}
                }
            ], 
            "execution_count": 45
        }, 
        {
            "source": "", 
            "cell_type": "code", 
            "metadata": {}, 
            "outputs": [], 
            "execution_count": null
        }
    ], 
    "metadata": {
        "kernelspec": {
            "display_name": "Python 3.5", 
            "name": "python3", 
            "language": "python"
        }, 
        "language_info": {
            "mimetype": "text/x-python", 
            "nbconvert_exporter": "python", 
            "version": "3.5.5", 
            "name": "python", 
            "file_extension": ".py", 
            "pygments_lexer": "ipython3", 
            "codemirror_mode": {
                "version": 3, 
                "name": "ipython"
            }
        }
    }, 
    "nbformat": 4
}